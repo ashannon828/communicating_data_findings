{
 "cells": [
  {
   "cell_type": "markdown",
   "metadata": {},
   "source": [
    "# (Dataset Exploration Title)\n",
    "## by Andrew Shannon\n",
    "\n",
    "Churn analysis\n",
    "https://www.charlesbordet.com/en/how-to-predict-ltv-saas-startup/#\n",
    "\n",
    "Plotting in for loops\n",
    "https://medium.com/@rayheberer/generating-matplotlib-subplots-programmatically-cc234629b648\n",
    "\n",
    "## Preliminary Wrangling\n",
    "\n",
    "> This document explores the Telco customer churn data set from Kaggle.  This data consists of 7043 customers described by 21 variables.\n",
    "\n",
    "https://www.kaggle.com/blastchar/telco-customer-churn"
   ]
  },
  {
   "cell_type": "markdown",
   "metadata": {},
   "source": [
    "To Do:\n",
    "0.  Document exploration\n",
    "1.  Survival analysis: for churn and impactful variables that I think are important based on analysis\n",
    "https://lifelines.readthedocs.io/en/latest/Quickstart.html\n",
    "https://towardsdatascience.com/survival-analysis-intuition-implementation-in-python-504fde4fcf8e\n",
    "2.  Decision Tree sklearn\n",
    "3.  Document everything I did"
   ]
  },
  {
   "cell_type": "code",
   "execution_count": 1,
   "metadata": {},
   "outputs": [],
   "source": [
    "# import all packages and set plots to be embedded inline\n",
    "import numpy as np\n",
    "import pandas as pd\n",
    "import matplotlib.pyplot as plt\n",
    "import seaborn as sns\n",
    "\n",
    "from lifelines import KaplanMeierFitter\n",
    "\n",
    "%matplotlib inline"
   ]
  },
  {
   "cell_type": "code",
   "execution_count": 2,
   "metadata": {},
   "outputs": [],
   "source": [
    "plt.style.use('fivethirtyeight')\n",
    "\n",
    "pd.set_option('display.max_rows', 500)\n",
    "pd.set_option('display.max_columns', 500)\n",
    "pd.set_option('display.width', 1000)"
   ]
  },
  {
   "cell_type": "markdown",
   "metadata": {},
   "source": [
    "> Load in your dataset and describe its properties through the questions below.\n",
    "Try and motivate your exploration goals through this section."
   ]
  },
  {
   "cell_type": "code",
   "execution_count": 3,
   "metadata": {},
   "outputs": [],
   "source": [
    "df = pd.read_csv(\"telco_customer_churn.csv\")\n",
    "df = df[df['tenure'] != 0]"
   ]
  },
  {
   "cell_type": "code",
   "execution_count": 4,
   "metadata": {},
   "outputs": [
    {
     "name": "stdout",
     "output_type": "stream",
     "text": [
      "(7032, 21)\n",
      "customerID           object\n",
      "gender               object\n",
      "SeniorCitizen         int64\n",
      "Partner              object\n",
      "Dependents           object\n",
      "tenure                int64\n",
      "PhoneService         object\n",
      "MultipleLines        object\n",
      "InternetService      object\n",
      "OnlineSecurity       object\n",
      "OnlineBackup         object\n",
      "DeviceProtection     object\n",
      "TechSupport          object\n",
      "StreamingTV          object\n",
      "StreamingMovies      object\n",
      "Contract             object\n",
      "PaperlessBilling     object\n",
      "PaymentMethod        object\n",
      "MonthlyCharges      float64\n",
      "TotalCharges         object\n",
      "Churn                object\n",
      "dtype: object\n"
     ]
    }
   ],
   "source": [
    "# High level overview of data\n",
    "\n",
    "print(df.shape)\n",
    "print(df.dtypes)"
   ]
  },
  {
   "cell_type": "code",
   "execution_count": 5,
   "metadata": {},
   "outputs": [],
   "source": [
    "df = df.replace({'No phone service': 'No', 'No internet service': 'No', r'\\s+': 'trash'}, regex=True)\n",
    "df['SeniorCitizen'] = df.SeniorCitizen.replace({0: 'No', 1: 'Yes'})\n",
    "df['TotalCharges'] = df.TotalCharges.astype('float')"
   ]
  },
  {
   "cell_type": "code",
   "execution_count": 6,
   "metadata": {},
   "outputs": [
    {
     "data": {
      "text/html": [
       "<div>\n",
       "<style scoped>\n",
       "    .dataframe tbody tr th:only-of-type {\n",
       "        vertical-align: middle;\n",
       "    }\n",
       "\n",
       "    .dataframe tbody tr th {\n",
       "        vertical-align: top;\n",
       "    }\n",
       "\n",
       "    .dataframe thead th {\n",
       "        text-align: right;\n",
       "    }\n",
       "</style>\n",
       "<table border=\"1\" class=\"dataframe\">\n",
       "  <thead>\n",
       "    <tr style=\"text-align: right;\">\n",
       "      <th></th>\n",
       "      <th>customerID</th>\n",
       "      <th>gender</th>\n",
       "      <th>SeniorCitizen</th>\n",
       "      <th>Partner</th>\n",
       "      <th>Dependents</th>\n",
       "      <th>tenure</th>\n",
       "      <th>PhoneService</th>\n",
       "      <th>MultipleLines</th>\n",
       "      <th>InternetService</th>\n",
       "      <th>OnlineSecurity</th>\n",
       "      <th>OnlineBackup</th>\n",
       "      <th>DeviceProtection</th>\n",
       "      <th>TechSupport</th>\n",
       "      <th>StreamingTV</th>\n",
       "      <th>StreamingMovies</th>\n",
       "      <th>Contract</th>\n",
       "      <th>PaperlessBilling</th>\n",
       "      <th>PaymentMethod</th>\n",
       "      <th>MonthlyCharges</th>\n",
       "      <th>TotalCharges</th>\n",
       "      <th>Churn</th>\n",
       "    </tr>\n",
       "  </thead>\n",
       "  <tbody>\n",
       "    <tr>\n",
       "      <th>0</th>\n",
       "      <td>7590-VHVEG</td>\n",
       "      <td>Female</td>\n",
       "      <td>No</td>\n",
       "      <td>Yes</td>\n",
       "      <td>No</td>\n",
       "      <td>1</td>\n",
       "      <td>No</td>\n",
       "      <td>No</td>\n",
       "      <td>DSL</td>\n",
       "      <td>No</td>\n",
       "      <td>Yes</td>\n",
       "      <td>No</td>\n",
       "      <td>No</td>\n",
       "      <td>No</td>\n",
       "      <td>No</td>\n",
       "      <td>Month-to-month</td>\n",
       "      <td>Yes</td>\n",
       "      <td>Electronic check</td>\n",
       "      <td>29.85</td>\n",
       "      <td>29.85</td>\n",
       "      <td>No</td>\n",
       "    </tr>\n",
       "    <tr>\n",
       "      <th>1</th>\n",
       "      <td>5575-GNVDE</td>\n",
       "      <td>Male</td>\n",
       "      <td>No</td>\n",
       "      <td>No</td>\n",
       "      <td>No</td>\n",
       "      <td>34</td>\n",
       "      <td>Yes</td>\n",
       "      <td>No</td>\n",
       "      <td>DSL</td>\n",
       "      <td>Yes</td>\n",
       "      <td>No</td>\n",
       "      <td>Yes</td>\n",
       "      <td>No</td>\n",
       "      <td>No</td>\n",
       "      <td>No</td>\n",
       "      <td>One year</td>\n",
       "      <td>No</td>\n",
       "      <td>Mailed check</td>\n",
       "      <td>56.95</td>\n",
       "      <td>1889.50</td>\n",
       "      <td>No</td>\n",
       "    </tr>\n",
       "    <tr>\n",
       "      <th>2</th>\n",
       "      <td>3668-QPYBK</td>\n",
       "      <td>Male</td>\n",
       "      <td>No</td>\n",
       "      <td>No</td>\n",
       "      <td>No</td>\n",
       "      <td>2</td>\n",
       "      <td>Yes</td>\n",
       "      <td>No</td>\n",
       "      <td>DSL</td>\n",
       "      <td>Yes</td>\n",
       "      <td>Yes</td>\n",
       "      <td>No</td>\n",
       "      <td>No</td>\n",
       "      <td>No</td>\n",
       "      <td>No</td>\n",
       "      <td>Month-to-month</td>\n",
       "      <td>Yes</td>\n",
       "      <td>Mailed check</td>\n",
       "      <td>53.85</td>\n",
       "      <td>108.15</td>\n",
       "      <td>Yes</td>\n",
       "    </tr>\n",
       "    <tr>\n",
       "      <th>3</th>\n",
       "      <td>7795-CFOCW</td>\n",
       "      <td>Male</td>\n",
       "      <td>No</td>\n",
       "      <td>No</td>\n",
       "      <td>No</td>\n",
       "      <td>45</td>\n",
       "      <td>No</td>\n",
       "      <td>No</td>\n",
       "      <td>DSL</td>\n",
       "      <td>Yes</td>\n",
       "      <td>No</td>\n",
       "      <td>Yes</td>\n",
       "      <td>Yes</td>\n",
       "      <td>No</td>\n",
       "      <td>No</td>\n",
       "      <td>One year</td>\n",
       "      <td>No</td>\n",
       "      <td>Bank transfer (automatic)</td>\n",
       "      <td>42.30</td>\n",
       "      <td>1840.75</td>\n",
       "      <td>No</td>\n",
       "    </tr>\n",
       "    <tr>\n",
       "      <th>4</th>\n",
       "      <td>9237-HQITU</td>\n",
       "      <td>Female</td>\n",
       "      <td>No</td>\n",
       "      <td>No</td>\n",
       "      <td>No</td>\n",
       "      <td>2</td>\n",
       "      <td>Yes</td>\n",
       "      <td>No</td>\n",
       "      <td>Fiber optic</td>\n",
       "      <td>No</td>\n",
       "      <td>No</td>\n",
       "      <td>No</td>\n",
       "      <td>No</td>\n",
       "      <td>No</td>\n",
       "      <td>No</td>\n",
       "      <td>Month-to-month</td>\n",
       "      <td>Yes</td>\n",
       "      <td>Electronic check</td>\n",
       "      <td>70.70</td>\n",
       "      <td>151.65</td>\n",
       "      <td>Yes</td>\n",
       "    </tr>\n",
       "  </tbody>\n",
       "</table>\n",
       "</div>"
      ],
      "text/plain": [
       "   customerID  gender SeniorCitizen Partner Dependents  tenure PhoneService MultipleLines InternetService OnlineSecurity OnlineBackup DeviceProtection TechSupport StreamingTV StreamingMovies        Contract PaperlessBilling              PaymentMethod  MonthlyCharges  TotalCharges Churn\n",
       "0  7590-VHVEG  Female            No     Yes         No       1           No            No             DSL             No          Yes               No          No          No              No  Month-to-month              Yes           Electronic check           29.85         29.85    No\n",
       "1  5575-GNVDE    Male            No      No         No      34          Yes            No             DSL            Yes           No              Yes          No          No              No        One year               No               Mailed check           56.95       1889.50    No\n",
       "2  3668-QPYBK    Male            No      No         No       2          Yes            No             DSL            Yes          Yes               No          No          No              No  Month-to-month              Yes               Mailed check           53.85        108.15   Yes\n",
       "3  7795-CFOCW    Male            No      No         No      45           No            No             DSL            Yes           No              Yes         Yes          No              No        One year               No  Bank transfer (automatic)           42.30       1840.75    No\n",
       "4  9237-HQITU  Female            No      No         No       2          Yes            No     Fiber optic             No           No               No          No          No              No  Month-to-month              Yes           Electronic check           70.70        151.65   Yes"
      ]
     },
     "execution_count": 6,
     "metadata": {},
     "output_type": "execute_result"
    }
   ],
   "source": [
    "df.head()"
   ]
  },
  {
   "cell_type": "code",
   "execution_count": 7,
   "metadata": {},
   "outputs": [
    {
     "data": {
      "text/html": [
       "<div>\n",
       "<style scoped>\n",
       "    .dataframe tbody tr th:only-of-type {\n",
       "        vertical-align: middle;\n",
       "    }\n",
       "\n",
       "    .dataframe tbody tr th {\n",
       "        vertical-align: top;\n",
       "    }\n",
       "\n",
       "    .dataframe thead th {\n",
       "        text-align: right;\n",
       "    }\n",
       "</style>\n",
       "<table border=\"1\" class=\"dataframe\">\n",
       "  <thead>\n",
       "    <tr style=\"text-align: right;\">\n",
       "      <th></th>\n",
       "      <th>tenure</th>\n",
       "      <th>MonthlyCharges</th>\n",
       "      <th>TotalCharges</th>\n",
       "    </tr>\n",
       "  </thead>\n",
       "  <tbody>\n",
       "    <tr>\n",
       "      <th>count</th>\n",
       "      <td>7032.000000</td>\n",
       "      <td>7032.000000</td>\n",
       "      <td>7032.000000</td>\n",
       "    </tr>\n",
       "    <tr>\n",
       "      <th>mean</th>\n",
       "      <td>32.421786</td>\n",
       "      <td>64.798208</td>\n",
       "      <td>2283.300441</td>\n",
       "    </tr>\n",
       "    <tr>\n",
       "      <th>std</th>\n",
       "      <td>24.545260</td>\n",
       "      <td>30.085974</td>\n",
       "      <td>2266.771362</td>\n",
       "    </tr>\n",
       "    <tr>\n",
       "      <th>min</th>\n",
       "      <td>1.000000</td>\n",
       "      <td>18.250000</td>\n",
       "      <td>18.800000</td>\n",
       "    </tr>\n",
       "    <tr>\n",
       "      <th>25%</th>\n",
       "      <td>9.000000</td>\n",
       "      <td>35.587500</td>\n",
       "      <td>401.450000</td>\n",
       "    </tr>\n",
       "    <tr>\n",
       "      <th>50%</th>\n",
       "      <td>29.000000</td>\n",
       "      <td>70.350000</td>\n",
       "      <td>1397.475000</td>\n",
       "    </tr>\n",
       "    <tr>\n",
       "      <th>75%</th>\n",
       "      <td>55.000000</td>\n",
       "      <td>89.862500</td>\n",
       "      <td>3794.737500</td>\n",
       "    </tr>\n",
       "    <tr>\n",
       "      <th>max</th>\n",
       "      <td>72.000000</td>\n",
       "      <td>118.750000</td>\n",
       "      <td>8684.800000</td>\n",
       "    </tr>\n",
       "  </tbody>\n",
       "</table>\n",
       "</div>"
      ],
      "text/plain": [
       "            tenure  MonthlyCharges  TotalCharges\n",
       "count  7032.000000     7032.000000   7032.000000\n",
       "mean     32.421786       64.798208   2283.300441\n",
       "std      24.545260       30.085974   2266.771362\n",
       "min       1.000000       18.250000     18.800000\n",
       "25%       9.000000       35.587500    401.450000\n",
       "50%      29.000000       70.350000   1397.475000\n",
       "75%      55.000000       89.862500   3794.737500\n",
       "max      72.000000      118.750000   8684.800000"
      ]
     },
     "execution_count": 7,
     "metadata": {},
     "output_type": "execute_result"
    }
   ],
   "source": [
    "df.describe()"
   ]
  },
  {
   "cell_type": "code",
   "execution_count": 8,
   "metadata": {},
   "outputs": [],
   "source": [
    "contracts = ['Month-to-month', 'One year', 'Two year']\n",
    "\n",
    "ordered_contracts = pd.api.types.CategoricalDtype(ordered=True, categories=contracts)\n",
    "df['Contract'] = df.Contract.astype(ordered_contracts)"
   ]
  },
  {
   "cell_type": "markdown",
   "metadata": {},
   "source": [
    "### What is the structure of your dataset?\n",
    "\n",
    "> There are 7032 rows with 21 variables.  The majority of the variables are boolean yes / no.  Senior citizen was inconsistently coded as 1 / 0 in comparison to the other variables that were yes / no.  Aside from gender there are three categorical variables InternetService [Fiber optic, DSL, No], Contract [Month to Month, Two year, One year], and PaymentMethod [Electronic check, Mailed check, Bank transfer (auto), Credit card (auto)].  \n",
    "\n",
    "> Contract by duration [Month to Month, One year, Two year]\n",
    "\n",
    "### What is/are the main feature(s) of interest in your dataset?\n",
    "\n",
    "> I am most interested in identifying which features correlate with long tenure and high lifetime value .\n",
    "\n",
    "> I am secondly interested in identifying which features correlate with churn.\n",
    "\n",
    "### What features in the dataset do you think will help support your investigation into your feature(s) of interest?\n",
    "\n",
    "> I think that for both predictions above, contract will be the most important factor, and maybe also the number of services, and bill size."
   ]
  },
  {
   "cell_type": "markdown",
   "metadata": {},
   "source": [
    "## Univariate Exploration\n",
    "\n",
    "> In this section, investigate distributions of individual variables. If\n",
    "you see unusual points or outliers, take a deeper look to clean things up\n",
    "and prepare yourself to look at relationships between variables."
   ]
  },
  {
   "cell_type": "code",
   "execution_count": 9,
   "metadata": {},
   "outputs": [
    {
     "data": {
      "text/html": [
       "<div>\n",
       "<style scoped>\n",
       "    .dataframe tbody tr th:only-of-type {\n",
       "        vertical-align: middle;\n",
       "    }\n",
       "\n",
       "    .dataframe tbody tr th {\n",
       "        vertical-align: top;\n",
       "    }\n",
       "\n",
       "    .dataframe thead th {\n",
       "        text-align: right;\n",
       "    }\n",
       "</style>\n",
       "<table border=\"1\" class=\"dataframe\">\n",
       "  <thead>\n",
       "    <tr style=\"text-align: right;\">\n",
       "      <th></th>\n",
       "      <th>tenure</th>\n",
       "      <th>MonthlyCharges</th>\n",
       "      <th>TotalCharges</th>\n",
       "    </tr>\n",
       "  </thead>\n",
       "  <tbody>\n",
       "    <tr>\n",
       "      <th>count</th>\n",
       "      <td>1869.000000</td>\n",
       "      <td>1869.000000</td>\n",
       "      <td>1869.000000</td>\n",
       "    </tr>\n",
       "    <tr>\n",
       "      <th>mean</th>\n",
       "      <td>17.979133</td>\n",
       "      <td>74.441332</td>\n",
       "      <td>1531.796094</td>\n",
       "    </tr>\n",
       "    <tr>\n",
       "      <th>std</th>\n",
       "      <td>19.531123</td>\n",
       "      <td>24.666053</td>\n",
       "      <td>1890.822994</td>\n",
       "    </tr>\n",
       "    <tr>\n",
       "      <th>min</th>\n",
       "      <td>1.000000</td>\n",
       "      <td>18.850000</td>\n",
       "      <td>18.850000</td>\n",
       "    </tr>\n",
       "    <tr>\n",
       "      <th>25%</th>\n",
       "      <td>2.000000</td>\n",
       "      <td>56.150000</td>\n",
       "      <td>134.500000</td>\n",
       "    </tr>\n",
       "    <tr>\n",
       "      <th>50%</th>\n",
       "      <td>10.000000</td>\n",
       "      <td>79.650000</td>\n",
       "      <td>703.550000</td>\n",
       "    </tr>\n",
       "    <tr>\n",
       "      <th>75%</th>\n",
       "      <td>29.000000</td>\n",
       "      <td>94.200000</td>\n",
       "      <td>2331.300000</td>\n",
       "    </tr>\n",
       "    <tr>\n",
       "      <th>max</th>\n",
       "      <td>72.000000</td>\n",
       "      <td>118.350000</td>\n",
       "      <td>8684.800000</td>\n",
       "    </tr>\n",
       "  </tbody>\n",
       "</table>\n",
       "</div>"
      ],
      "text/plain": [
       "            tenure  MonthlyCharges  TotalCharges\n",
       "count  1869.000000     1869.000000   1869.000000\n",
       "mean     17.979133       74.441332   1531.796094\n",
       "std      19.531123       24.666053   1890.822994\n",
       "min       1.000000       18.850000     18.850000\n",
       "25%       2.000000       56.150000    134.500000\n",
       "50%      10.000000       79.650000    703.550000\n",
       "75%      29.000000       94.200000   2331.300000\n",
       "max      72.000000      118.350000   8684.800000"
      ]
     },
     "execution_count": 9,
     "metadata": {},
     "output_type": "execute_result"
    }
   ],
   "source": [
    "df.query('Churn == \"Yes\"').describe()"
   ]
  },
  {
   "cell_type": "code",
   "execution_count": 10,
   "metadata": {},
   "outputs": [
    {
     "data": {
      "text/html": [
       "<div>\n",
       "<style scoped>\n",
       "    .dataframe tbody tr th:only-of-type {\n",
       "        vertical-align: middle;\n",
       "    }\n",
       "\n",
       "    .dataframe tbody tr th {\n",
       "        vertical-align: top;\n",
       "    }\n",
       "\n",
       "    .dataframe thead th {\n",
       "        text-align: right;\n",
       "    }\n",
       "</style>\n",
       "<table border=\"1\" class=\"dataframe\">\n",
       "  <thead>\n",
       "    <tr style=\"text-align: right;\">\n",
       "      <th></th>\n",
       "      <th>tenure</th>\n",
       "      <th>MonthlyCharges</th>\n",
       "      <th>TotalCharges</th>\n",
       "    </tr>\n",
       "  </thead>\n",
       "  <tbody>\n",
       "    <tr>\n",
       "      <th>count</th>\n",
       "      <td>5163.00000</td>\n",
       "      <td>5163.000000</td>\n",
       "      <td>5163.000000</td>\n",
       "    </tr>\n",
       "    <tr>\n",
       "      <th>mean</th>\n",
       "      <td>37.65001</td>\n",
       "      <td>61.307408</td>\n",
       "      <td>2555.344141</td>\n",
       "    </tr>\n",
       "    <tr>\n",
       "      <th>std</th>\n",
       "      <td>24.07694</td>\n",
       "      <td>31.094557</td>\n",
       "      <td>2329.456984</td>\n",
       "    </tr>\n",
       "    <tr>\n",
       "      <th>min</th>\n",
       "      <td>1.00000</td>\n",
       "      <td>18.250000</td>\n",
       "      <td>18.800000</td>\n",
       "    </tr>\n",
       "    <tr>\n",
       "      <th>25%</th>\n",
       "      <td>15.00000</td>\n",
       "      <td>25.100000</td>\n",
       "      <td>577.825000</td>\n",
       "    </tr>\n",
       "    <tr>\n",
       "      <th>50%</th>\n",
       "      <td>38.00000</td>\n",
       "      <td>64.450000</td>\n",
       "      <td>1683.600000</td>\n",
       "    </tr>\n",
       "    <tr>\n",
       "      <th>75%</th>\n",
       "      <td>61.00000</td>\n",
       "      <td>88.475000</td>\n",
       "      <td>4264.125000</td>\n",
       "    </tr>\n",
       "    <tr>\n",
       "      <th>max</th>\n",
       "      <td>72.00000</td>\n",
       "      <td>118.750000</td>\n",
       "      <td>8672.450000</td>\n",
       "    </tr>\n",
       "  </tbody>\n",
       "</table>\n",
       "</div>"
      ],
      "text/plain": [
       "           tenure  MonthlyCharges  TotalCharges\n",
       "count  5163.00000     5163.000000   5163.000000\n",
       "mean     37.65001       61.307408   2555.344141\n",
       "std      24.07694       31.094557   2329.456984\n",
       "min       1.00000       18.250000     18.800000\n",
       "25%      15.00000       25.100000    577.825000\n",
       "50%      38.00000       64.450000   1683.600000\n",
       "75%      61.00000       88.475000   4264.125000\n",
       "max      72.00000      118.750000   8672.450000"
      ]
     },
     "execution_count": 10,
     "metadata": {},
     "output_type": "execute_result"
    }
   ],
   "source": [
    "df.query('Churn == \"No\"').describe()"
   ]
  },
  {
   "cell_type": "markdown",
   "metadata": {},
   "source": [
    "> Churned customers on average have a higher monthly charge, and lower average tenure than those that do not churn.  This translates to lower average total charges - or customer lifetime value."
   ]
  },
  {
   "cell_type": "code",
   "execution_count": 11,
   "metadata": {},
   "outputs": [
    {
     "data": {
      "image/png": "[encoded data removed]",
      "text/plain": [
       "<Figure size 576x360 with 1 Axes>"
      ]
     },
     "metadata": {},
     "output_type": "display_data"
    }
   ],
   "source": [
    "bins = np.arange(0, df['TotalCharges'].max(), 200)\n",
    "\n",
    "plt.figure(figsize=[8, 5])\n",
    "plt.hist(data=df, x='TotalCharges', bins=bins)\n",
    "\n",
    "plt.xlabel('Price ($)')\n",
    "plt.ylabel('Count')\n",
    "\n",
    "plt.title('TotalCharges Distribution');"
   ]
  },
  {
   "cell_type": "markdown",
   "metadata": {},
   "source": [
    "> Since there is a very long tail with the majority of TotalCharges under $2000, I will perform a log transformation on the X axis. "
   ]
  },
  {
   "cell_type": "code",
   "execution_count": 12,
   "metadata": {},
   "outputs": [
    {
     "data": {
      "text/plain": [
       "count    8.858226\n",
       "mean     7.733377\n",
       "std      7.726112\n",
       "min      2.933857\n",
       "25%      5.995083\n",
       "50%      7.242422\n",
       "75%      8.241371\n",
       "max      9.069330\n",
       "Name: TotalCharges, dtype: float64"
      ]
     },
     "execution_count": 12,
     "metadata": {},
     "output_type": "execute_result"
    }
   ],
   "source": [
    "np.log(df['TotalCharges'].describe())"
   ]
  },
  {
   "cell_type": "code",
   "execution_count": 13,
   "metadata": {},
   "outputs": [
    {
     "data": {
      "image/png": "[encoded data removed]",
      "text/plain": [
       "<Figure size 576x360 with 1 Axes>"
      ]
     },
     "metadata": {},
     "output_type": "display_data"
    }
   ],
   "source": [
    "log_binsize = 0.05\n",
    "bins = 10 ** np.arange(1.5, np.log10(df['TotalCharges'].max())+log_binsize, log_binsize)\n",
    "\n",
    "plt.figure(figsize=[8, 5])\n",
    "plt.hist(data=df, x='TotalCharges', bins=bins)\n",
    "\n",
    "plt.xlabel('Price ($)')\n",
    "plt.xscale('log')\n",
    "plt.xticks([5e1, 1e2, 2e2, 5e2, 1e3, 2e3, 4e3, 6e3, 8e3], ['50', '100', '200', '500', '1k', '2k', '4k', '6k', '8k'])\n",
    "\n",
    "plt.ylabel('Count')\n",
    "\n",
    "plt.title('TotalCharges Distribution');"
   ]
  },
  {
   "cell_type": "markdown",
   "metadata": {},
   "source": [
    "> TotalCharges distribution indicates that the majority of customers have spent less than 2000. When plotted on a log scale, the distirbution is roughly bimodal.  The first peak is around 1.5k with the second around 6k.  There is a smooth ramp up from 100 to 2000."
   ]
  },
  {
   "cell_type": "code",
   "execution_count": 14,
   "metadata": {
    "scrolled": false
   },
   "outputs": [
    {
     "data": {
      "image/png": "[encoded data removed]",
      "text/plain": [
       "<Figure size 576x360 with 1 Axes>"
      ]
     },
     "metadata": {},
     "output_type": "display_data"
    }
   ],
   "source": [
    "bins = np.arange(0, df['tenure'].max(), 2)\n",
    "\n",
    "plt.figure(figsize=[8, 5])\n",
    "plt.hist(data=df, x='tenure', bins=bins)\n",
    "\n",
    "plt.xlabel('Customer Duration in Months')\n",
    "plt.ylabel('Count')\n",
    "\n",
    "plt.title('Tenure Distribution');"
   ]
  },
  {
   "cell_type": "markdown",
   "metadata": {},
   "source": [
    "> Tenure distribution appears to have a spike in first few months, and a spike at the tail."
   ]
  },
  {
   "cell_type": "code",
   "execution_count": 15,
   "metadata": {},
   "outputs": [
    {
     "data": {
      "text/plain": [
       "count    7032.000000\n",
       "mean       64.798208\n",
       "std        30.085974\n",
       "min        18.250000\n",
       "25%        35.587500\n",
       "50%        70.350000\n",
       "75%        89.862500\n",
       "max       118.750000\n",
       "Name: MonthlyCharges, dtype: float64"
      ]
     },
     "execution_count": 15,
     "metadata": {},
     "output_type": "execute_result"
    }
   ],
   "source": [
    "# Viewing MonthlyCharges statistics\n",
    "\n",
    "df.MonthlyCharges.describe()"
   ]
  },
  {
   "cell_type": "code",
   "execution_count": 16,
   "metadata": {},
   "outputs": [
    {
     "data": {
      "image/png": "[encoded data removed]",
      "text/plain": [
       "<Figure size 576x360 with 1 Axes>"
      ]
     },
     "metadata": {},
     "output_type": "display_data"
    }
   ],
   "source": [
    "bins = np.arange(20, df['MonthlyCharges'].max(), 1)\n",
    "\n",
    "plt.figure(figsize=[8, 5])\n",
    "plt.hist(data=df, x='MonthlyCharges', bins=bins)\n",
    "\n",
    "plt.xlabel('Price ($)')\n",
    "plt.ylabel('Count')\n",
    "\n",
    "plt.title('MonthlyCharges Distribution');"
   ]
  },
  {
   "cell_type": "markdown",
   "metadata": {},
   "source": [
    "> When providing narrow bins, there is a large spike around 20, and then there are clusters which could indicate prices of certain packages. "
   ]
  },
  {
   "cell_type": "code",
   "execution_count": 17,
   "metadata": {
    "scrolled": true
   },
   "outputs": [
    {
     "data": {
      "image/png": "[encoded data removed]",
      "text/plain": [
       "<Figure size 1152x1296 with 15 Axes>"
      ]
     },
     "metadata": {},
     "output_type": "display_data"
    }
   ],
   "source": [
    "color = sns.color_palette()[0]\n",
    "\n",
    "cols = ['Churn', 'PaymentMethod', 'Contract', 'gender', 'SeniorCitizen', 'Partner', \n",
    "        'Dependents', 'PhoneService', 'MultipleLines', 'InternetService', 'TechSupport',\n",
    "        'OnlineBackup', 'PaperlessBilling', 'OnlineSecurity']\n",
    "\n",
    "fig, ax = plt.subplots(nrows=5, ncols=3, figsize = [16,18])\n",
    "\n",
    "for ax, col in zip(ax.flatten(), df[cols]):\n",
    "    sns.countplot(data=df, x=col, color=color, ax=ax)\n",
    "    plt.sca(ax)\n",
    "    plt.xticks(rotation=15)\n",
    "\n",
    "plt.tight_layout();"
   ]
  },
  {
   "cell_type": "markdown",
   "metadata": {},
   "source": [
    "**Churn** - roughly 25% of customers churned\n",
    "<br>**PaymentMethod** - More customers pay by Electronic check than any other payment method.  I suspect that automatic payments are associated with one and two year contracts as opposed to month to month.\n",
    "<br>**Contract** - Month to month contract is by far the most common customer type while I assume that one and two year contracts are associated with a lower rate of churn.\n",
    "<br>**gender** - is roughly equally distributed\n",
    "<br>**SenioreCitizen** - Roughly 1/7th of the population are senior citizens. \n",
    "<br>**Partner** - customers with and without partners is roughly the same.\n",
    "<br>**Dependents** - About 2/3rds of customers do not have dependents\n",
    "<br>**Phone Service** - very few customers do not have phone service\n",
    "<br>**MultipleLines** - roughly 3/7ths \n",
    "<br>**InternetService** - More customers have fiber service compared to DSL or not having internet service\n",
    "<br>**TechSupport** - Roughly 1/3rd of customers have tech support\n",
    "<br>**OnlineBackup** - Roughly 1/3rd of customers have online backup\n",
    "<br>**PaperlessBilling** - Roughly 3 in 7 customers use paperless billing\n",
    "<br>**OnlineSecurity** - Roughly 1 in three customers uses online security"
   ]
  },
  {
   "cell_type": "markdown",
   "metadata": {},
   "source": [
    "### Discuss the distribution(s) of your variable(s) of interest. Were there any unusual points? Did you need to perform any transformations?\n",
    "\n",
    "> TotalCharges distribution was highly right skewed with the majority of customers having very little totalCharges.  Because of this, I performed a logistic transformation.\n",
    "\n",
    "> Tenure distribution was very interesting with there being a peak at new customers and another peak at the tail with longtime customers.  \n",
    "\n",
    "> When accounting for the tenure duration difference between churned and not churned, Month to month comes to mind as a variable that is more likely to churn than not.  This along with payment method, and InternetService appear to be good variables to investigate further.\n",
    "\n",
    "> I will create an additional variable and calculate the tenure in years\n",
    "\n",
    "> Monthly charges distribution appeared to be interesting as when the bins are set to narrow ranges, small pockets appear.  \n",
    ">I will bin the monthly expenses into a categorical value Low, Med, High, and Very high to assist in my analysis.\n",
    "\n",
    "\n",
    "\n",
    "\n",
    "### Of the features you investigated, were there any unusual distributions? Did you perform any operations on the data to tidy, adjust, or change the form of the data? If so, why did you do this?\n",
    "\n",
    "> There were customers with 0 TotalCharges - I removed these data points as it wasnt entirely clear why they did not pay anything, in this instance I decided it was safer to remove them."
   ]
  },
  {
   "cell_type": "markdown",
   "metadata": {},
   "source": [
    "## Bivariate Exploration\n",
    "\n",
    "> In this section, investigate relationships between pairs of variables in your\n",
    "data. Make sure the variables that you cover here have been introduced in some\n",
    "fashion in the previous section (univariate exploration)."
   ]
  },
  {
   "cell_type": "code",
   "execution_count": null,
   "metadata": {},
   "outputs": [],
   "source": [
    "# Calculate the tenure in years\n",
    "\n",
    "df['tenure_years'] = (df.tenure / 12).astype(int)"
   ]
  },
  {
   "cell_type": "code",
   "execution_count": null,
   "metadata": {},
   "outputs": [],
   "source": [
    "'''\n",
    "I will bin the months into the following bins\n",
    "\n",
    "Monthly Bins:\n",
    "Low - $0-30 per month\n",
    "Med - $30-65 per month\n",
    "High - $65-80 per month\n",
    "Very High - $80+ per month\n",
    "'''\n",
    "\n",
    "bins = [0,30,60,100,120]\n",
    "bin_name = ['Low', 'Med', 'High', 'Very High']\n",
    "\n",
    "df['monthly_bins'] = pd.cut(df.MonthlyCharges.astype(int), bins=bins, labels=bin_name)"
   ]
  },
  {
   "cell_type": "code",
   "execution_count": null,
   "metadata": {},
   "outputs": [],
   "source": [
    "def plot_matrix(mask):\n",
    "    '''Function to plot a 2x2 subplot for specified mask'''\n",
    "    color = sns.color_palette()[0]\n",
    "    mask = mask\n",
    "    bins = np.arange(0, df[mask].tenure.max(), 2)\n",
    "    fig, ax = plt.subplots(nrows=2, ncols=2, figsize = [12, 8])\n",
    "    sns.countplot(data=df[mask], x='PhoneService', color=color, ax=ax[0, 0])\n",
    "    sns.countplot(data=df[mask], x='InternetService', color=color, ax=ax[0, 1])\n",
    "    sns.countplot(data=df[mask], x='Churn', color=color, ax=ax[1,0])\n",
    "    ax[1,1].hist(data=df[mask], x='tenure', bins=bins, color=color);"
   ]
  },
  {
   "cell_type": "code",
   "execution_count": null,
   "metadata": {},
   "outputs": [],
   "source": [
    "monthly_bill = df['monthly_bins'] == 'Low'\n",
    "\n",
    "plot_matrix(monthly_bill)"
   ]
  },
  {
   "cell_type": "markdown",
   "metadata": {},
   "source": [
    "> Customers with a low monthly charge (less than \\\\$30) appear to churn the least frequent while also having a highly right skewed distribution."
   ]
  },
  {
   "cell_type": "code",
   "execution_count": null,
   "metadata": {},
   "outputs": [],
   "source": [
    "monthly_bill = df['monthly_bins'] == 'Med'\n",
    "\n",
    "plot_matrix(monthly_bill)"
   ]
  },
  {
   "cell_type": "code",
   "execution_count": null,
   "metadata": {},
   "outputs": [],
   "source": [
    "monthly_bill = df['monthly_bins'] == 'High'\n",
    "\n",
    "plot_matrix(monthly_bill)"
   ]
  },
  {
   "cell_type": "code",
   "execution_count": null,
   "metadata": {},
   "outputs": [],
   "source": [
    "monthly_bill = df['monthly_bins'] == 'Very High'\n",
    "\n",
    "plot_matrix(monthly_bill)"
   ]
  },
  {
   "cell_type": "code",
   "execution_count": null,
   "metadata": {
    "scrolled": false
   },
   "outputs": [],
   "source": [
    "mask = (df['monthly_bins'] == 'High') & (df['InternetService'] != 'DSL')\n",
    "\n",
    "plot_matrix(mask)"
   ]
  },
  {
   "cell_type": "markdown",
   "metadata": {},
   "source": [
    "> High monthly charge customers (\\\\$60 - \\\\$100) that are also Fiber customers seem to Churn at nearly 50%"
   ]
  },
  {
   "cell_type": "code",
   "execution_count": null,
   "metadata": {},
   "outputs": [],
   "source": [
    "mask = (df['InternetService'] == 'Fiber optic') & (df['monthly_bins'] == 'High')\n",
    "\n",
    "plot_matrix(mask)"
   ]
  },
  {
   "cell_type": "code",
   "execution_count": null,
   "metadata": {},
   "outputs": [],
   "source": [
    "df[mask].Churn.value_counts() / df[mask].shape[0]"
   ]
  },
  {
   "cell_type": "markdown",
   "metadata": {},
   "source": [
    "> Customers who are binned as high monthly payments (\\\\$65-\\\\$85 per month) and are Fiber optic subscribers churn at 47% which is significantly higher than the total population's churn rate of 26%."
   ]
  },
  {
   "cell_type": "code",
   "execution_count": null,
   "metadata": {
    "scrolled": true
   },
   "outputs": [],
   "source": [
    "df[mask].describe()"
   ]
  },
  {
   "cell_type": "code",
   "execution_count": null,
   "metadata": {},
   "outputs": [],
   "source": [
    "df.describe()"
   ]
  },
  {
   "cell_type": "markdown",
   "metadata": {},
   "source": [
    "> They also on average have a shorter tenure of 1.7 years compared to 2.3 years while maintaining similar total charges."
   ]
  },
  {
   "cell_type": "code",
   "execution_count": null,
   "metadata": {},
   "outputs": [],
   "source": [
    "cat_vars = ['gender', 'SeniorCitizen', 'Partner', 'Dependents', 'PhoneService', \n",
    "            'MultipleLines', 'InternetService', 'OnlineSecurity', 'OnlineBackup', \n",
    "            'DeviceProtection', 'TechSupport', 'StreamingTV', 'StreamingMovies', \n",
    "            'Contract', 'PaperlessBilling', 'PaymentMethod', 'monthly_bins', 'tenure_years']"
   ]
  },
  {
   "cell_type": "code",
   "execution_count": null,
   "metadata": {},
   "outputs": [],
   "source": [
    "plt.figure(figsize=[8, 5])\n",
    "\n",
    "plt.scatter(data=df, x='tenure', y='MonthlyCharges', alpha=.03)\n",
    "\n",
    "plt.xlabel('Tenure')\n",
    "plt.ylabel('Monthly Charges')\n",
    "\n",
    "plt.title('Monthly Bill VS Tenure');"
   ]
  },
  {
   "cell_type": "markdown",
   "metadata": {},
   "source": [
    "#### Here there is an interesting pattern, and very similarly resembes the tenure frequency distribution.  However, we can see that the customers with the longest tenure tend to have a bill that is under \\\\$30, or over $80."
   ]
  },
  {
   "cell_type": "code",
   "execution_count": null,
   "metadata": {},
   "outputs": [],
   "source": [
    "plt.figure(figsize=[8, 5])\n",
    "\n",
    "plt.scatter(data=df, x='MonthlyCharges', y='TotalCharges', alpha=.03)\n",
    "\n",
    "plt.xlabel('Monthly Charges')\n",
    "plt.ylabel('Total Charges')\n",
    "\n",
    "plt.title('Monthly Price VS Total Charges');"
   ]
  },
  {
   "cell_type": "markdown",
   "metadata": {},
   "source": [
    "#### Interestingly, it appears that there are some customers between 40 and 80 that have low total charges.  At the same time, those with monthly bills over 100 seem to contribute to higher total charges."
   ]
  },
  {
   "cell_type": "code",
   "execution_count": null,
   "metadata": {},
   "outputs": [],
   "source": [
    "# Churn ratio\n",
    "\n",
    "df.Churn.value_counts()/df.shape[0]"
   ]
  },
  {
   "cell_type": "code",
   "execution_count": null,
   "metadata": {
    "scrolled": true
   },
   "outputs": [],
   "source": [
    "# Calculate churn ratio for each variable\n",
    "\n",
    "for category in cat_vars:\n",
    "    print(\"Churn = Yes\")\n",
    "    print(df.query('Churn == \"Yes\"')[category].value_counts() / df[category].value_counts())\n",
    "    print(\"Churn = NO\")\n",
    "    print(df.query('Churn == \"No\"')[category].value_counts() / df[category].value_counts())\n",
    "    print()"
   ]
  },
  {
   "cell_type": "markdown",
   "metadata": {},
   "source": [
    "### Churn Ratio by Variable\n",
    "\n",
    "**gender** - Interestingly, churn within gender is nearly identical to overall churn. <br>\n",
    "**SeniorCitizen** - Senior Citizens are more likely to churn than non seniors. <br>\n",
    "**Partner** - Those with partners are less likely to churn than single folks <br>\n",
    "**Dependents** - Those with dependents are less likely to churn than those without <br>\n",
    "**PhoneService** - those with phone service are just as likely to churn as overall population <br>\n",
    "**MultipleLines** - Churn is 3% higher in those with multiple lines <br>\n",
    "**InternetService** - Fiber Optic customers churn 16% more often than overall population, while DSL and No internet \n",
    "service churn less than the population. <br>\n",
    "**OnlineSecurity** - Customers with online security churn less than the overall population <br>\n",
    "**OnlineBackup** - Little difference between population <br>\n",
    "**DeviceProtection** - Litte difference between population <br>\n",
    "**TechSupport** - Those with tech support tend to churn less than the population <br>\n",
    "**StreamingTv** - Churn slightly higher rate than population <br>\n",
    "**StreamingMovies** - Churn at slightly higher rate than population <br>\n",
    "**Contract** - Month to month churns roughly 17% more often while one year and two year contract holders churn much less frequent <br>\n",
    "**PaperlessBilling** - Customers without paperless billing tend to churn less often than the population <br>\n",
    "**PaymentMethod** - Customers paying by electronic check are the most frequent churners while those with automatic payments are the least likely to churn."
   ]
  },
  {
   "cell_type": "code",
   "execution_count": null,
   "metadata": {},
   "outputs": [],
   "source": [
    "# Average Tenure for visual reference\n",
    "\n",
    "\"Mean\", df.tenure.mean(), \"STD\", np.std(df.tenure)"
   ]
  },
  {
   "cell_type": "code",
   "execution_count": null,
   "metadata": {
    "scrolled": true
   },
   "outputs": [],
   "source": [
    "cols = ['Churn', 'PaymentMethod', 'Contract', 'gender', 'SeniorCitizen', 'Partner', \n",
    "        'Dependents', 'PhoneService', 'MultipleLines', 'InternetService', 'TechSupport',\n",
    "        'OnlineBackup', 'monthly_bins', 'PaperlessBilling', 'OnlineSecurity']\n",
    "\n",
    "fig, ax = plt.subplots(nrows=5, ncols=3, figsize = [16,18])\n",
    "\n",
    "for ax, col in zip(ax.flatten(), df[cols]):\n",
    "    sns.boxplot(data=df, x=col, y='tenure', color=color, ax=ax)\n",
    "    plt.sca(ax)\n",
    "    plt.xticks(rotation=15)\n",
    "    \n",
    "plt.tight_layout();\n"
   ]
  },
  {
   "cell_type": "code",
   "execution_count": null,
   "metadata": {},
   "outputs": [],
   "source": []
  },
  {
   "cell_type": "markdown",
   "metadata": {},
   "source": [
    "**Churn** - Interestingly, the mean tenure for those that do not churn is roughly 3x as long than those that churn.\n",
    "<br>**PaymentMethod** - Automatic patments tend to have longer mean tenures than non automatic payments with mailed having hte shortest.\n",
    "<br>**Contract** - As expected, two year contracts have the longest mean tenure followed by one year, while month to month has the shortest.\n",
    "<br>**gender** - Little to no effect on length of tenure\n",
    "<br>**SeniorCitizen** - Little to no effect on length of tenure\n",
    "<br>**Partner** - On average, those with partners have 4x as long tenure\n",
    "<br>**Dependents** - Those with dependents have roughly 50% increase in mean tenure\n",
    "<br>**PhoneService** - At glance has little effect on tenure\n",
    "<br>**MultipleLines** - On average, those with multiple lines have more than 2x as long tenure\n",
    "<br>**InternetService** - Internet service appears to have little effect on length of tenure though on average, those without interenet have moderately shorter tenure.\n",
    "<br>**TechSupport** - Customers with TechSupport on average have longer tenure\n",
    "<br>**OnlineBackup** - Customers with online backup have longer than average tenure\n",
    "<br>**monthly_bins** - Customers with very high monthly bills have the longest average tenure\n",
    "<br>**PaperlessBilling** - Little to no effect on length of tenure\n",
    "<br>**OnlineSecurity** - Customers with online security have longer than average tenure."
   ]
  },
  {
   "cell_type": "markdown",
   "metadata": {},
   "source": [
    "### Talk about some of the relationships you observed in this part of the investigation. How did the feature(s) of interest vary with other features in the dataset?\n",
    "\n",
    "> Based on the above observations - the most interesting variables related to Tenure are PaymentMethod, Contract, Partner, MultipleLines, TechSupport, and those associated with internet service (OnlineBackup, OnlineSecurity) as their means are significantly above the global mean tenure of 32 months.  WHile not close to 1 STD from the mean, these variables \n",
    "\n",
    "### Did you observe any interesting relationships between the other features (not the main feature(s) of interest)?\n",
    "\n",
    "> Your answer here!"
   ]
  },
  {
   "cell_type": "markdown",
   "metadata": {},
   "source": [
    "## Multivariate Exploration\n",
    "\n",
    "> Create plots of three or more variables to investigate your data even\n",
    "further. Make sure that your investigations are justified, and follow from\n",
    "your work in the previous sections."
   ]
  },
  {
   "cell_type": "code",
   "execution_count": null,
   "metadata": {},
   "outputs": [],
   "source": [
    "cols = ['PaymentMethod', 'Contract', 'SeniorCitizen', 'Partner', \n",
    "        'Dependents', 'MultipleLines', 'InternetService', 'TechSupport',\n",
    "        'OnlineBackup', 'monthly_bins', 'PaperlessBilling', 'OnlineSecurity']\n",
    "\n",
    "fig, ax = plt.subplots(nrows=4, ncols=3, figsize = [16,18])\n",
    "\n",
    "for ax, col in zip(ax.flatten(), df[cols]):\n",
    "    sns.violinplot(data=df, x=col, y='tenure', hue='Churn', split=True, color=color, ax=ax)\n",
    "    plt.sca(ax)\n",
    "    plt.xticks(rotation=15)\n",
    "    plt.legend(loc=10)\n",
    "    \n",
    "plt.tight_layout();"
   ]
  },
  {
   "cell_type": "markdown",
   "metadata": {},
   "source": [
    "### Talk about some of the relationships you observed in this part of the investigation. Were there features that strengthened each other in terms of looking at your feature(s) of interest?\n",
    "\n",
    "> Your answer here!\n",
    "\n",
    "### Were there any interesting or surprising interactions between features?\n",
    "\n",
    "> Your answer here!"
   ]
  },
  {
   "cell_type": "markdown",
   "metadata": {},
   "source": [
    "> At the end of your report, make sure that you export the notebook as an\n",
    "html file from the `File > Download as... > HTML` menu. Make sure you keep\n",
    "track of where the exported file goes, so you can put it in the same folder\n",
    "as this notebook for project submission. Also, make sure you remove all of\n",
    "the quote-formatted guide notes like this one before you finish your report!"
   ]
  },
  {
   "cell_type": "code",
   "execution_count": null,
   "metadata": {},
   "outputs": [],
   "source": []
  },
  {
   "cell_type": "code",
   "execution_count": null,
   "metadata": {},
   "outputs": [],
   "source": [
    "df['encoded_churn'] = df['Churn'].replace({'Yes':1, 'No':0})\n",
    "\n",
    "time_series = df.tenure\n",
    "events = df.encoded_churn\n",
    "\n",
    "idx = (df.encoded_churn == 1)\n",
    "\n",
    "# create a kmf object\n",
    "kmf = KaplanMeierFitter() \n",
    "\n",
    "## Fit the data into the model\n",
    "kmf.fit(time_series[idx], events[idx], label='Churned Customers')\n",
    "\n",
    "## Create an estimate\n",
    "kmf.plot()\n",
    "plt.title('Customer Retention')\n",
    "\n",
    "plt.xticks(ticks=[12, 24, 36, 48, 60, 72]);"
   ]
  },
  {
   "cell_type": "code",
   "execution_count": null,
   "metadata": {},
   "outputs": [],
   "source": [
    "T = df.tenure\n",
    "E = df.encoded_churn\n",
    "\n",
    "group = df.Contract\n",
    "monthly = (group == 'Month-to-month')\n",
    "one = (group == 'One year')\n",
    "two = (group == 'Two year')\n",
    "\n",
    "\n",
    "\n",
    "## create a kmf object\n",
    "kmf = KaplanMeierFitter() \n",
    "\n",
    "## Fit the data into the model\n",
    "kmf.fit(T[monthly], E[monthly], label='Month to month')\n",
    "a = kmf.plot()\n",
    "\n",
    "kmf.fit(T[one], E[one], label='One year')\n",
    "kmf.plot(ax=a)\n",
    "\n",
    "kmf.fit(T[two], E[two], label='Two year')\n",
    "kmf.plot(ax=a)\n",
    "\n",
    "\n",
    "plt.title('Customer Retention')\n",
    "\n",
    "plt.xticks(ticks=[12, 24, 36, 48, 60, 72]);"
   ]
  },
  {
   "cell_type": "code",
   "execution_count": null,
   "metadata": {},
   "outputs": [],
   "source": [
    "T = df.tenure\n",
    "E = df.encoded_churn\n",
    "\n",
    "group = df['Partner']\n",
    "idx = (group == 'Yes')\n",
    "\n",
    "## create a kmf object\n",
    "kmf = KaplanMeierFitter() \n",
    "\n",
    "## Fit the data into the model\n",
    "kmf.fit(T[idx], E[idx], label='Partner')\n",
    "\n",
    "## Create an estimate\n",
    "a = kmf.plot()\n",
    "\n",
    "kmf.fit(T[~idx], E[~idx], label='No Parter')\n",
    "kmf.plot(ax=a)\n",
    "\n",
    "\n",
    "plt.title('Customer Retention')\n",
    "\n",
    "plt.xticks(ticks=[12, 24, 36, 48, 60, 72]);"
   ]
  },
  {
   "cell_type": "code",
   "execution_count": null,
   "metadata": {},
   "outputs": [],
   "source": [
    "T = df.tenure\n",
    "E = df.encoded_churn\n",
    "\n",
    "group = df['Dependents']\n",
    "idx = (group == 'Yes')\n",
    "\n",
    "## create a kmf object\n",
    "kmf = KaplanMeierFitter() \n",
    "\n",
    "## Fit the data into the model\n",
    "kmf.fit(T[idx], E[idx], label='Dependents')\n",
    "\n",
    "## Create an estimate\n",
    "a = kmf.plot()\n",
    "\n",
    "kmf.fit(T[~idx], E[~idx], label='No Dependents')\n",
    "kmf.plot(ax=a)\n",
    "\n",
    "\n",
    "plt.title('Customer Retention')\n",
    "\n",
    "plt.xticks(ticks=[12, 24, 36, 48, 60, 72]);"
   ]
  },
  {
   "cell_type": "code",
   "execution_count": null,
   "metadata": {},
   "outputs": [],
   "source": [
    "T = df.tenure\n",
    "E = df.encoded_churn\n",
    "\n",
    "group = df['InternetService']\n",
    "no_internet = (group == 'No')\n",
    "dsl = (group == 'DSL')\n",
    "fiber = (group == 'Fiber optic')\n",
    "\n",
    "\n",
    "\n",
    "## create a kmf object\n",
    "kmf = KaplanMeierFitter() \n",
    "\n",
    "## Fit the data into the model\n",
    "kmf.fit(T[no_internet], E[no_internet], label='No Internet')\n",
    "a = kmf.plot()\n",
    "\n",
    "kmf.fit(T[dsl], E[dsl], label='DSL')\n",
    "kmf.plot(ax=a)\n",
    "\n",
    "kmf.fit(T[fiber], E[fiber], label='Fiber')\n",
    "kmf.plot(ax=a)\n",
    "\n",
    "\n",
    "plt.title('Customer Retention')\n",
    "\n",
    "plt.xticks(ticks=[12, 24, 36, 48, 60, 72]);"
   ]
  }
 ],
 "metadata": {
  "kernelspec": {
   "display_name": "Python 3",
   "language": "python",
   "name": "python3"
  },
  "language_info": {
   "codemirror_mode": {
    "name": "ipython",
    "version": 3
   },
   "file_extension": ".py",
   "mimetype": "text/x-python",
   "name": "python",
   "nbconvert_exporter": "python",
   "pygments_lexer": "ipython3",
   "version": "3.7.1"
  }
 },
 "nbformat": 4,
 "nbformat_minor": 2
}
